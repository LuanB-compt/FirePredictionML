{
 "cells": [
  {
   "cell_type": "markdown",
   "metadata": {},
   "source": [
    "## **IMPORTS**"
   ]
  },
  {
   "cell_type": "code",
   "execution_count": 51,
   "metadata": {},
   "outputs": [],
   "source": [
    "import pandas as pd\n",
    "import numpy as np\n",
    "\n",
    "import matplotlib.pyplot as plt\n",
    "import seaborn as sns\n",
    "\n",
    "from sklearn.model_selection import train_test_split\n",
    "from sklearn.linear_model import LinearRegression\n",
    "from sklearn.metrics import mean_squared_error, r2_score"
   ]
  },
  {
   "cell_type": "code",
   "execution_count": 42,
   "metadata": {},
   "outputs": [],
   "source": [
    "brazil = pd.read_csv(\n",
    "    filepath_or_buffer=\"../data/timeSeriesBrazil_process.csv\",\n",
    "    dtype={\n",
    "        \"year\":\"int\",\n",
    "        \"state\":\"category\",\n",
    "        \"month\":\"category\",\n",
    "        \"number\":\"float\",\n",
    "        \"date\":\"string\"\n",
    "    }\n",
    ")\n",
    "brazil.drop(columns=['Unnamed: 0'], inplace=True)\n",
    "brazil['date'] = pd.to_datetime(arg=brazil['date'], format=\"%m/%d/%Y\")"
   ]
  },
  {
   "cell_type": "markdown",
   "metadata": {},
   "source": [
    "## **FUNCTIONS**"
   ]
  },
  {
   "cell_type": "code",
   "execution_count": 43,
   "metadata": {},
   "outputs": [],
   "source": [
    "def regplot(x, y, data):\n",
    "    plt.figure(figsize=(14,5))\n",
    "    fig, ax = plt.subplots()\n",
    "    ax.plot(x, y, data=data, color='0.1')\n",
    "    ax = sns.regplot(x=x, y=y, data=data, ci=None, scatter_kws=dict(color='0.85'))\n",
    "    ax.set_title(f'Regression plot with {x} and {y}')"
   ]
  },
  {
   "cell_type": "markdown",
   "metadata": {},
   "source": [
    "## **PRE-PROCESSING**"
   ]
  },
  {
   "cell_type": "code",
   "execution_count": 44,
   "metadata": {},
   "outputs": [
    {
     "data": {
      "text/html": [
       "<div>\n",
       "<style scoped>\n",
       "    .dataframe tbody tr th:only-of-type {\n",
       "        vertical-align: middle;\n",
       "    }\n",
       "\n",
       "    .dataframe tbody tr th {\n",
       "        vertical-align: top;\n",
       "    }\n",
       "\n",
       "    .dataframe thead th {\n",
       "        text-align: right;\n",
       "    }\n",
       "</style>\n",
       "<table border=\"1\" class=\"dataframe\">\n",
       "  <thead>\n",
       "    <tr style=\"text-align: right;\">\n",
       "      <th></th>\n",
       "      <th>year</th>\n",
       "      <th>state</th>\n",
       "      <th>month</th>\n",
       "      <th>number</th>\n",
       "      <th>date</th>\n",
       "    </tr>\n",
       "  </thead>\n",
       "  <tbody>\n",
       "    <tr>\n",
       "      <th>3374</th>\n",
       "      <td>1998</td>\n",
       "      <td>Acre</td>\n",
       "      <td>Janeiro</td>\n",
       "      <td>0.000</td>\n",
       "      <td>1998-01-01</td>\n",
       "    </tr>\n",
       "    <tr>\n",
       "      <th>3394</th>\n",
       "      <td>1998</td>\n",
       "      <td>Acre</td>\n",
       "      <td>Fevereiro</td>\n",
       "      <td>0.000</td>\n",
       "      <td>1998-01-01</td>\n",
       "    </tr>\n",
       "    <tr>\n",
       "      <th>3414</th>\n",
       "      <td>1998</td>\n",
       "      <td>Acre</td>\n",
       "      <td>Março</td>\n",
       "      <td>0.000</td>\n",
       "      <td>1998-01-01</td>\n",
       "    </tr>\n",
       "    <tr>\n",
       "      <th>3434</th>\n",
       "      <td>1998</td>\n",
       "      <td>Acre</td>\n",
       "      <td>Abril</td>\n",
       "      <td>0.000</td>\n",
       "      <td>1998-01-01</td>\n",
       "    </tr>\n",
       "    <tr>\n",
       "      <th>3454</th>\n",
       "      <td>1998</td>\n",
       "      <td>Acre</td>\n",
       "      <td>Maio</td>\n",
       "      <td>0.000</td>\n",
       "      <td>1998-01-01</td>\n",
       "    </tr>\n",
       "    <tr>\n",
       "      <th>...</th>\n",
       "      <td>...</td>\n",
       "      <td>...</td>\n",
       "      <td>...</td>\n",
       "      <td>...</td>\n",
       "      <td>...</td>\n",
       "    </tr>\n",
       "    <tr>\n",
       "      <th>3329</th>\n",
       "      <td>2022</td>\n",
       "      <td>Tocantins</td>\n",
       "      <td>Agosto</td>\n",
       "      <td>2.298</td>\n",
       "      <td>2022-01-01</td>\n",
       "    </tr>\n",
       "    <tr>\n",
       "      <th>3340</th>\n",
       "      <td>2022</td>\n",
       "      <td>Tocantins</td>\n",
       "      <td>Setembro</td>\n",
       "      <td>2.753</td>\n",
       "      <td>2022-01-01</td>\n",
       "    </tr>\n",
       "    <tr>\n",
       "      <th>3351</th>\n",
       "      <td>2022</td>\n",
       "      <td>Tocantins</td>\n",
       "      <td>Outubro</td>\n",
       "      <td>2.327</td>\n",
       "      <td>2022-01-01</td>\n",
       "    </tr>\n",
       "    <tr>\n",
       "      <th>3362</th>\n",
       "      <td>2022</td>\n",
       "      <td>Tocantins</td>\n",
       "      <td>Novembro</td>\n",
       "      <td>185.000</td>\n",
       "      <td>2022-01-01</td>\n",
       "    </tr>\n",
       "    <tr>\n",
       "      <th>3373</th>\n",
       "      <td>2022</td>\n",
       "      <td>Tocantins</td>\n",
       "      <td>Dezembro</td>\n",
       "      <td>97.000</td>\n",
       "      <td>2022-01-01</td>\n",
       "    </tr>\n",
       "  </tbody>\n",
       "</table>\n",
       "<p>9796 rows × 5 columns</p>\n",
       "</div>"
      ],
      "text/plain": [
       "      year      state      month   number       date\n",
       "3374  1998       Acre    Janeiro    0.000 1998-01-01\n",
       "3394  1998       Acre  Fevereiro    0.000 1998-01-01\n",
       "3414  1998       Acre      Março    0.000 1998-01-01\n",
       "3434  1998       Acre      Abril    0.000 1998-01-01\n",
       "3454  1998       Acre       Maio    0.000 1998-01-01\n",
       "...    ...        ...        ...      ...        ...\n",
       "3329  2022  Tocantins     Agosto    2.298 2022-01-01\n",
       "3340  2022  Tocantins   Setembro    2.753 2022-01-01\n",
       "3351  2022  Tocantins    Outubro    2.327 2022-01-01\n",
       "3362  2022  Tocantins   Novembro  185.000 2022-01-01\n",
       "3373  2022  Tocantins   Dezembro   97.000 2022-01-01\n",
       "\n",
       "[9796 rows x 5 columns]"
      ]
     },
     "execution_count": 44,
     "metadata": {},
     "output_type": "execute_result"
    }
   ],
   "source": [
    "datas = []\n",
    "for year in sorted(brazil.year.value_counts().index):\n",
    "    datas.append(pd.DataFrame(brazil[(brazil['year'] == year)]))\n",
    "\n",
    "brazil = pd.concat(objs=datas)\n",
    "brazil"
   ]
  },
  {
   "cell_type": "markdown",
   "metadata": {},
   "source": [
    "## **TREND ANALYSIS**"
   ]
  },
  {
   "cell_type": "code",
   "execution_count": 45,
   "metadata": {},
   "outputs": [
    {
     "data": {
      "text/plain": [
       "<Figure size 1400x500 with 0 Axes>"
      ]
     },
     "metadata": {},
     "output_type": "display_data"
    },
    {
     "data": {
      "text/plain": [
       "<Figure size 1400x500 with 0 Axes>"
      ]
     },
     "metadata": {},
     "output_type": "display_data"
    },
    {
     "data": {
      "image/png": "[encoded data removed]",
      "text/plain": [
       "<Figure size 640x480 with 1 Axes>"
      ]
     },
     "metadata": {},
     "output_type": "display_data"
    }
   ],
   "source": [
    "brazil['Timestamp'] = np.arange(len(brazil.index)) # Time-step feature\n",
    "\n",
    "plt.figure(figsize=(14,5))\n",
    "regplot(x=\"Timestamp\", y=\"number\", data=brazil)"
   ]
  },
  {
   "cell_type": "markdown",
   "metadata": {},
   "source": [
    "## **DATA SPLIT**"
   ]
  },
  {
   "cell_type": "code",
   "execution_count": 46,
   "metadata": {},
   "outputs": [
    {
     "data": {
      "text/plain": [
       "(9796, 6)"
      ]
     },
     "execution_count": 46,
     "metadata": {},
     "output_type": "execute_result"
    }
   ],
   "source": [
    "brazil.shape"
   ]
  },
  {
   "cell_type": "code",
   "execution_count": 48,
   "metadata": {},
   "outputs": [],
   "source": [
    "X = brazil.loc[:, ['Timestamp']]\n",
    "y = brazil['number']\n",
    "\n",
    "X_train, X_test, y_train, y_test = train_test_split(X, y, test_size=0.15, random_state=42, shuffle=False)"
   ]
  },
  {
   "cell_type": "markdown",
   "metadata": {},
   "source": [
    "## **MODEL FIT**"
   ]
  },
  {
   "cell_type": "code",
   "execution_count": 49,
   "metadata": {},
   "outputs": [],
   "source": [
    "regressor = LinearRegression()\n",
    "regressor.fit(X_train, y_train)\n",
    "y_pred = regressor.predict(X_test)"
   ]
  },
  {
   "cell_type": "markdown",
   "metadata": {},
   "source": [
    "## **MODEL VALIDATION**"
   ]
  },
  {
   "cell_type": "code",
   "execution_count": 50,
   "metadata": {},
   "outputs": [
    {
     "name": "stdout",
     "output_type": "stream",
     "text": [
      "f(x) = 0.011247078512241326*x + 81.95752103990091\n",
      "Desvio Padrão: ± 305832.722728673\n",
      "R quadrado: -0.0006522054433790725\n"
     ]
    }
   ],
   "source": [
    "print(f'f(x) = {regressor.coef_[0]}*x + {regressor.intercept_}')\n",
    "print(f'Desvio Padrão: ± {mean_squared_error(y_true=y_test, y_pred=y_pred)}')\n",
    "print(f'R quadrado: {r2_score(y_true=y_test, y_pred=y_pred)}')"
   ]
  }
 ],
 "metadata": {
  "kernelspec": {
   "display_name": "env",
   "language": "python",
   "name": "python3"
  },
  "language_info": {
   "codemirror_mode": {
    "name": "ipython",
    "version": 3
   },
   "file_extension": ".py",
   "mimetype": "text/x-python",
   "name": "python",
   "nbconvert_exporter": "python",
   "pygments_lexer": "ipython3",
   "version": "3.10.9"
  },
  "orig_nbformat": 4
 },
 "nbformat": 4,
 "nbformat_minor": 2
}
