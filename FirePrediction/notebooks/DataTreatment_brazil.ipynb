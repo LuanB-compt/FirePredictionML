{
 "cells": [
  {
   "cell_type": "markdown",
   "metadata": {},
   "source": [
    "## **IMPORTS**"
   ]
  },
  {
   "cell_type": "code",
   "execution_count": 30,
   "metadata": {},
   "outputs": [],
   "source": [
    "import pandas as pd"
   ]
  },
  {
   "cell_type": "code",
   "execution_count": 31,
   "metadata": {},
   "outputs": [],
   "source": [
    "brazil = pd.read_csv(\n",
    "    filepath_or_buffer=\"../data/timeSeriesBrazil_raw.csv\",\n",
    "    dtype={\n",
    "        \"year\": \"int\",\n",
    "        \"state\": \"string\",\n",
    "        \"month\": \"string\",\n",
    "        \"number\": \"float\",\n",
    "        \"date\": \"string\"\n",
    "    },\n",
    "    encoding=\"utf-8\",\n",
    "    sep=\";\",    \n",
    ")\n",
    "brazil.drop(columns=['Unnamed: 0'], inplace=True)"
   ]
  },
  {
   "cell_type": "markdown",
   "metadata": {},
   "source": [
    "## **DATETIME TREATMENTS**"
   ]
  },
  {
   "cell_type": "code",
   "execution_count": 32,
   "metadata": {},
   "outputs": [],
   "source": [
    "brazil['date'] = pd.to_datetime(arg=brazil['date'], format=\"mixed\")\n",
    "brazil['date'] = brazil['date'].dt.strftime('%m/%d/%Y')"
   ]
  },
  {
   "cell_type": "markdown",
   "metadata": {},
   "source": [
    "## **DUPLICATED DATA**"
   ]
  },
  {
   "cell_type": "code",
   "execution_count": 33,
   "metadata": {},
   "outputs": [
    {
     "data": {
      "text/html": [
       "<div>\n",
       "<style scoped>\n",
       "    .dataframe tbody tr th:only-of-type {\n",
       "        vertical-align: middle;\n",
       "    }\n",
       "\n",
       "    .dataframe tbody tr th {\n",
       "        vertical-align: top;\n",
       "    }\n",
       "\n",
       "    .dataframe thead th {\n",
       "        text-align: right;\n",
       "    }\n",
       "</style>\n",
       "<table border=\"1\" class=\"dataframe\">\n",
       "  <thead>\n",
       "    <tr style=\"text-align: right;\">\n",
       "      <th></th>\n",
       "      <th>year</th>\n",
       "      <th>state</th>\n",
       "      <th>month</th>\n",
       "      <th>number</th>\n",
       "      <th>date</th>\n",
       "    </tr>\n",
       "  </thead>\n",
       "  <tbody>\n",
       "    <tr>\n",
       "      <th>3579</th>\n",
       "      <td>2013</td>\n",
       "      <td>Acre</td>\n",
       "      <td>Janeiro</td>\n",
       "      <td>0.000</td>\n",
       "      <td>01/01/2013</td>\n",
       "    </tr>\n",
       "    <tr>\n",
       "      <th>3580</th>\n",
       "      <td>2014</td>\n",
       "      <td>Acre</td>\n",
       "      <td>Janeiro</td>\n",
       "      <td>0.000</td>\n",
       "      <td>01/01/2014</td>\n",
       "    </tr>\n",
       "    <tr>\n",
       "      <th>3583</th>\n",
       "      <td>2017</td>\n",
       "      <td>Acre</td>\n",
       "      <td>Janeiro</td>\n",
       "      <td>0.000</td>\n",
       "      <td>01/01/2017</td>\n",
       "    </tr>\n",
       "    <tr>\n",
       "      <th>3598</th>\n",
       "      <td>2012</td>\n",
       "      <td>Acre</td>\n",
       "      <td>Fevereiro</td>\n",
       "      <td>0.000</td>\n",
       "      <td>01/01/2012</td>\n",
       "    </tr>\n",
       "    <tr>\n",
       "      <th>3599</th>\n",
       "      <td>2013</td>\n",
       "      <td>Acre</td>\n",
       "      <td>Fevereiro</td>\n",
       "      <td>0.000</td>\n",
       "      <td>01/01/2013</td>\n",
       "    </tr>\n",
       "    <tr>\n",
       "      <th>...</th>\n",
       "      <td>...</td>\n",
       "      <td>...</td>\n",
       "      <td>...</td>\n",
       "      <td>...</td>\n",
       "      <td>...</td>\n",
       "    </tr>\n",
       "    <tr>\n",
       "      <th>9775</th>\n",
       "      <td>2013</td>\n",
       "      <td>Sergipe</td>\n",
       "      <td>Dezembro</td>\n",
       "      <td>9.000</td>\n",
       "      <td>01/01/2013</td>\n",
       "    </tr>\n",
       "    <tr>\n",
       "      <th>9776</th>\n",
       "      <td>2014</td>\n",
       "      <td>Sergipe</td>\n",
       "      <td>Dezembro</td>\n",
       "      <td>9.000</td>\n",
       "      <td>01/01/2014</td>\n",
       "    </tr>\n",
       "    <tr>\n",
       "      <th>9778</th>\n",
       "      <td>2016</td>\n",
       "      <td>Sergipe</td>\n",
       "      <td>Dezembro</td>\n",
       "      <td>36.000</td>\n",
       "      <td>01/01/2016</td>\n",
       "    </tr>\n",
       "    <tr>\n",
       "      <th>9814</th>\n",
       "      <td>2013</td>\n",
       "      <td>Tocantins</td>\n",
       "      <td>Fevereiro</td>\n",
       "      <td>37.000</td>\n",
       "      <td>01/01/2013</td>\n",
       "    </tr>\n",
       "    <tr>\n",
       "      <th>9937</th>\n",
       "      <td>2016</td>\n",
       "      <td>Tocantins</td>\n",
       "      <td>Agosto</td>\n",
       "      <td>3.213</td>\n",
       "      <td>01/01/2016</td>\n",
       "    </tr>\n",
       "  </tbody>\n",
       "</table>\n",
       "<p>222 rows × 5 columns</p>\n",
       "</div>"
      ],
      "text/plain": [
       "      year      state      month  number        date\n",
       "3579  2013       Acre    Janeiro   0.000  01/01/2013\n",
       "3580  2014       Acre    Janeiro   0.000  01/01/2014\n",
       "3583  2017       Acre    Janeiro   0.000  01/01/2017\n",
       "3598  2012       Acre  Fevereiro   0.000  01/01/2012\n",
       "3599  2013       Acre  Fevereiro   0.000  01/01/2013\n",
       "...    ...        ...        ...     ...         ...\n",
       "9775  2013    Sergipe   Dezembro   9.000  01/01/2013\n",
       "9776  2014    Sergipe   Dezembro   9.000  01/01/2014\n",
       "9778  2016    Sergipe   Dezembro  36.000  01/01/2016\n",
       "9814  2013  Tocantins  Fevereiro  37.000  01/01/2013\n",
       "9937  2016  Tocantins     Agosto   3.213  01/01/2016\n",
       "\n",
       "[222 rows x 5 columns]"
      ]
     },
     "execution_count": 33,
     "metadata": {},
     "output_type": "execute_result"
    }
   ],
   "source": [
    "brazil[brazil.duplicated(keep='first')]"
   ]
  },
  {
   "cell_type": "code",
   "execution_count": 34,
   "metadata": {},
   "outputs": [],
   "source": [
    "brazil = brazil.drop_duplicates(keep='last')"
   ]
  },
  {
   "cell_type": "markdown",
   "metadata": {},
   "source": [
    "## **NAN VALUES**"
   ]
  },
  {
   "cell_type": "code",
   "execution_count": 35,
   "metadata": {},
   "outputs": [
    {
     "data": {
      "text/html": [
       "<div>\n",
       "<style scoped>\n",
       "    .dataframe tbody tr th:only-of-type {\n",
       "        vertical-align: middle;\n",
       "    }\n",
       "\n",
       "    .dataframe tbody tr th {\n",
       "        vertical-align: top;\n",
       "    }\n",
       "\n",
       "    .dataframe thead th {\n",
       "        text-align: right;\n",
       "    }\n",
       "</style>\n",
       "<table border=\"1\" class=\"dataframe\">\n",
       "  <thead>\n",
       "    <tr style=\"text-align: right;\">\n",
       "      <th></th>\n",
       "      <th>Abs</th>\n",
       "      <th>Porcent</th>\n",
       "    </tr>\n",
       "  </thead>\n",
       "  <tbody>\n",
       "    <tr>\n",
       "      <th>year</th>\n",
       "      <td>0</td>\n",
       "      <td>0.0</td>\n",
       "    </tr>\n",
       "    <tr>\n",
       "      <th>state</th>\n",
       "      <td>0</td>\n",
       "      <td>0.0</td>\n",
       "    </tr>\n",
       "    <tr>\n",
       "      <th>month</th>\n",
       "      <td>0</td>\n",
       "      <td>0.0</td>\n",
       "    </tr>\n",
       "    <tr>\n",
       "      <th>number</th>\n",
       "      <td>0</td>\n",
       "      <td>0.0</td>\n",
       "    </tr>\n",
       "    <tr>\n",
       "      <th>date</th>\n",
       "      <td>0</td>\n",
       "      <td>0.0</td>\n",
       "    </tr>\n",
       "  </tbody>\n",
       "</table>\n",
       "</div>"
      ],
      "text/plain": [
       "        Abs  Porcent\n",
       "year      0      0.0\n",
       "state     0      0.0\n",
       "month     0      0.0\n",
       "number    0      0.0\n",
       "date      0      0.0"
      ]
     },
     "execution_count": 35,
     "metadata": {},
     "output_type": "execute_result"
    }
   ],
   "source": [
    "pd.DataFrame(data={\"Abs\":brazil.isnull().sum(), \"Porcent\":brazil.isnull().sum()/brazil.shape[0]})"
   ]
  },
  {
   "cell_type": "markdown",
   "metadata": {},
   "source": [
    "## **CATEGORICAL DATA**"
   ]
  },
  {
   "cell_type": "code",
   "execution_count": 36,
   "metadata": {},
   "outputs": [],
   "source": [
    "#pd.get_dummies(brazil, columns=[\"state\"])"
   ]
  },
  {
   "cell_type": "markdown",
   "metadata": {},
   "source": [
    "## **STATES DATA**"
   ]
  },
  {
   "cell_type": "code",
   "execution_count": 37,
   "metadata": {},
   "outputs": [],
   "source": [
    "brazil.state.replace(\"Rio\", \"Rio de Janeiro\", inplace=True)\n",
    "brazil.state.replace(\"Sao Paulo\", \"São Paulo\", inplace=True)\n",
    "brazil.state.replace(\"Maranhao\", \"Maranhão\", inplace=True)\n",
    "brazil.state.replace(\"Piau\", \"Piaui\", inplace=True)\n",
    "brazil.state.replace(\"Ceara\", \"Ceará\", inplace=True)\n",
    "brazil.state.replace(\"Paraiba\", \"Paraíba\", inplace=True)\n",
    "brazil.state.replace(\"Rondonia\", \"Rondônia\", inplace=True)"
   ]
  },
  {
   "cell_type": "code",
   "execution_count": 38,
   "metadata": {},
   "outputs": [
    {
     "data": {
      "text/plain": [
       "['Rio de Janeiro',\n",
       " 'Mato Grosso',\n",
       " 'Paraíba',\n",
       " 'Minas Gerais',\n",
       " 'São Paulo',\n",
       " 'Amazonas',\n",
       " 'Bahia',\n",
       " 'Ceará',\n",
       " 'Piaui',\n",
       " 'Goias',\n",
       " 'Maranhão',\n",
       " 'Pará',\n",
       " 'Tocantins',\n",
       " 'Rondônia',\n",
       " 'Santa Catarina',\n",
       " 'Espirito Santo',\n",
       " 'Roraima',\n",
       " 'Pernambuco',\n",
       " 'Amapa',\n",
       " 'Acre',\n",
       " 'Alagoas',\n",
       " 'Sergipe',\n",
       " 'Distrito Federal',\n",
       " 'Mato Grosso do Sul',\n",
       " 'Paraná',\n",
       " 'Rio Grande do Norte',\n",
       " 'Rio Grande do Sul']"
      ]
     },
     "execution_count": 38,
     "metadata": {},
     "output_type": "execute_result"
    }
   ],
   "source": [
    "brazil.state.value_counts().index.to_list()"
   ]
  },
  {
   "cell_type": "markdown",
   "metadata": {},
   "source": [
    "## **SAVE DATASET**"
   ]
  },
  {
   "cell_type": "code",
   "execution_count": 39,
   "metadata": {},
   "outputs": [],
   "source": [
    "brazil.to_csv(path_or_buf=\"../data/timeSeriesBrazil_process.csv\")"
   ]
  }
 ],
 "metadata": {
  "kernelspec": {
   "display_name": "env",
   "language": "python",
   "name": "python3"
  },
  "language_info": {
   "codemirror_mode": {
    "name": "ipython",
    "version": 3
   },
   "file_extension": ".py",
   "mimetype": "text/x-python",
   "name": "python",
   "nbconvert_exporter": "python",
   "pygments_lexer": "ipython3",
   "version": "3.10.9"
  },
  "orig_nbformat": 4
 },
 "nbformat": 4,
 "nbformat_minor": 2
}
