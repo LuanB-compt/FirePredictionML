{
 "cells": [
  {
   "cell_type": "code",
   "execution_count": 1,
   "metadata": {},
   "outputs": [],
   "source": [
    "import pandas as pd"
   ]
  },
  {
   "cell_type": "code",
   "execution_count": 7,
   "metadata": {},
   "outputs": [],
   "source": [
    "allStates = pd.read_csv(filepath_or_buffer=\"../data/BrazilAllStates_2012_2022/Incendio.csv\", encoding=\"latin-1\")\n",
    "amazon = pd.read_csv(filepath_or_buffer=\"../data/forestFireBrazilAmazon/amazon.csv\", encoding=\"latin-1\")"
   ]
  },
  {
   "cell_type": "code",
   "execution_count": 13,
   "metadata": {},
   "outputs": [],
   "source": [
    "final = pd.concat(objs=[allStates, amazon], axis=0)\n",
    "final.to_csv(path_or_buf=\"../data/timeSeriesBrazil.csv\", encoding=\"utf-8\", sep=\";\")"
   ]
  }
 ],
 "metadata": {
  "kernelspec": {
   "display_name": "env",
   "language": "python",
   "name": "python3"
  },
  "language_info": {
   "codemirror_mode": {
    "name": "ipython",
    "version": 3
   },
   "file_extension": ".py",
   "mimetype": "text/x-python",
   "name": "python",
   "nbconvert_exporter": "python",
   "pygments_lexer": "ipython3",
   "version": "3.10.9"
  },
  "orig_nbformat": 4
 },
 "nbformat": 4,
 "nbformat_minor": 2
}
